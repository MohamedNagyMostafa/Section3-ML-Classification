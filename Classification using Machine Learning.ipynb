{
 "cells": [
  {
   "cell_type": "markdown",
   "metadata": {},
   "source": [
    "# Section 3: Classification using Machine Learning || Fruits Classification"
   ]
  },
  {
   "cell_type": "markdown",
   "metadata": {},
   "source": [
    "In this project, you will create AI models to classify four types of fruits up to some parameters that you will obtain from the `fruits_data.txt` file. Make sure that you have installed the following libraries *numpy*, *pandas*, *matplotlib.pyplot*, and *scikit-learn*. If you are missing one of them, you may use `anaconda cmd` to install them by writing the commands below in the `anaconda cmd`:-\n",
    "* For *scikit-learn*, `pip install -U scikit-learn` or `pip3 install -U scikit-learn`\n",
    "* For *numpy*, `pip install numpy` or `pip3 install numpy`\n",
    "* For *pandas*, `pip install pandas` or `pip3 install pandas`\n",
    "* For *matplotlib*, `pip install matplotlib` or `pip3 install matplotlib`\n",
    "\n",
    "*This tutorial contains **individual parts**; each part presents a code section with a short discussion above that explains its purpose.*\n",
    "\n",
    "**Please Note: This notebook has been created by [Mohamed Nagy](https://www.linkedin.com/in/mohamed-nagy-7a2a25b9/) as a part of training sessions for undergraduates at Helwan university. In case of sharing it, please keep this part without changing.**"
   ]
  },
  {
   "cell_type": "markdown",
   "metadata": {},
   "source": [
    "## Importing Libraries & Read The Dataset"
   ]
  },
  {
   "cell_type": "markdown",
   "metadata": {},
   "source": [
    "We will import libraries that we are going to use in the rest of the project using the **import** command line and read the dataset from the `fruits_data.txt` file."
   ]
  },
  {
   "cell_type": "code",
   "execution_count": 2,
   "metadata": {},
   "outputs": [],
   "source": [
    "\n",
    "import pandas as pd\n",
    "import matplotlib.pyplot as plt\n",
    "import numpy as np\n",
    "from pandas.plotting import scatter_matrix\n"
   ]
  },
  {
   "cell_type": "code",
   "execution_count": 4,
   "metadata": {},
   "outputs": [
    {
     "name": "stderr",
     "output_type": "stream",
     "text": [
      "G:\\anaconda\\lib\\site-packages\\ipykernel_launcher.py:3: FutureWarning: read_table is deprecated, use read_csv instead, passing sep='\\t'.\n",
      "  This is separate from the ipykernel package so we can avoid doing imports until\n"
     ]
    },
    {
     "data": {
      "text/html": [
       "<div>\n",
       "<style scoped>\n",
       "    .dataframe tbody tr th:only-of-type {\n",
       "        vertical-align: middle;\n",
       "    }\n",
       "\n",
       "    .dataframe tbody tr th {\n",
       "        vertical-align: top;\n",
       "    }\n",
       "\n",
       "    .dataframe thead th {\n",
       "        text-align: right;\n",
       "    }\n",
       "</style>\n",
       "<table border=\"1\" class=\"dataframe\">\n",
       "  <thead>\n",
       "    <tr style=\"text-align: right;\">\n",
       "      <th></th>\n",
       "      <th>fruit_label</th>\n",
       "      <th>fruit_name</th>\n",
       "      <th>fruit_subtype</th>\n",
       "      <th>mass</th>\n",
       "      <th>width</th>\n",
       "      <th>height</th>\n",
       "      <th>color_score</th>\n",
       "    </tr>\n",
       "  </thead>\n",
       "  <tbody>\n",
       "    <tr>\n",
       "      <th>0</th>\n",
       "      <td>1</td>\n",
       "      <td>apple</td>\n",
       "      <td>granny_smith</td>\n",
       "      <td>192</td>\n",
       "      <td>8.4</td>\n",
       "      <td>7.3</td>\n",
       "      <td>0.55</td>\n",
       "    </tr>\n",
       "    <tr>\n",
       "      <th>1</th>\n",
       "      <td>1</td>\n",
       "      <td>apple</td>\n",
       "      <td>granny_smith</td>\n",
       "      <td>180</td>\n",
       "      <td>8.0</td>\n",
       "      <td>6.8</td>\n",
       "      <td>0.59</td>\n",
       "    </tr>\n",
       "    <tr>\n",
       "      <th>2</th>\n",
       "      <td>1</td>\n",
       "      <td>apple</td>\n",
       "      <td>granny_smith</td>\n",
       "      <td>176</td>\n",
       "      <td>7.4</td>\n",
       "      <td>7.2</td>\n",
       "      <td>0.60</td>\n",
       "    </tr>\n",
       "    <tr>\n",
       "      <th>3</th>\n",
       "      <td>2</td>\n",
       "      <td>mandarin</td>\n",
       "      <td>mandarin</td>\n",
       "      <td>86</td>\n",
       "      <td>6.2</td>\n",
       "      <td>4.7</td>\n",
       "      <td>0.80</td>\n",
       "    </tr>\n",
       "    <tr>\n",
       "      <th>4</th>\n",
       "      <td>2</td>\n",
       "      <td>mandarin</td>\n",
       "      <td>mandarin</td>\n",
       "      <td>84</td>\n",
       "      <td>6.0</td>\n",
       "      <td>4.6</td>\n",
       "      <td>0.79</td>\n",
       "    </tr>\n",
       "  </tbody>\n",
       "</table>\n",
       "</div>"
      ],
      "text/plain": [
       "   fruit_label fruit_name fruit_subtype  mass  width  height  color_score\n",
       "0            1      apple  granny_smith   192    8.4     7.3         0.55\n",
       "1            1      apple  granny_smith   180    8.0     6.8         0.59\n",
       "2            1      apple  granny_smith   176    7.4     7.2         0.60\n",
       "3            2   mandarin      mandarin    86    6.2     4.7         0.80\n",
       "4            2   mandarin      mandarin    84    6.0     4.6         0.79"
      ]
     },
     "execution_count": 4,
     "metadata": {},
     "output_type": "execute_result"
    }
   ],
   "source": [
    "# Read the dataset from the fruits_data.txt file.\n",
    "\n",
    "fruits_dataset = pd.read_table('fruits_data.txt')\n",
    "\n",
    "fruits_dataset.head()"
   ]
  },
  {
   "cell_type": "markdown",
   "metadata": {},
   "source": [
    "## Data Visualization\n",
    "\n",
    "Up to this point, you should be familiar with data that you are dealing with, for instance, recognize the number of records that the data contains. Furthermore, you need to visualize the data in advance to get a good impression of what your model is going to face.\n",
    "\n",
    "The vital proposal of this part is to scaling your data, to avoid *bias* and *overfitting* problems, pick up more important features, *feature selection* process, and ultimately decide the best model. "
   ]
  },
  {
   "cell_type": "code",
   "execution_count": 5,
   "metadata": {},
   "outputs": [
    {
     "name": "stdout",
     "output_type": "stream",
     "text": [
      "('Number of records:', 59, ' Number of features:', 7)\n"
     ]
    }
   ],
   "source": [
    "# Get an initial impression of your data. \n",
    "records_n, features_n = fruits_dataset.shape\n",
    "\n",
    "print('Number of records:',records_n, ' Number of features:', features_n )"
   ]
  },
  {
   "cell_type": "code",
   "execution_count": 23,
   "metadata": {},
   "outputs": [
    {
     "name": "stdout",
     "output_type": "stream",
     "text": [
      "('Number of fruits:', array(['apple', 'mandarin', 'orange', 'lemon'], dtype=object))\n",
      "('Fruits ids:', array([1, 2, 3, 4], dtype=int64))\n",
      "('Number of features', Index([u'mass', u'width', u'height', u'color_score'], dtype='object'))\n"
     ]
    }
   ],
   "source": [
    "# Number of classes that you have.\n",
    "classes_names = fruits_dataset['fruit_name'].unique()\n",
    "classes_ids   = fruits_dataset['fruit_label'].unique()\n",
    "\n",
    "# Get features except `fruit_label`, `fruit_name` and `fruit_subtype` \n",
    "# because we are not going to use in the training process.\n",
    "features = fruits_dataset.columns[3:] \n",
    "\n",
    "print('Number of fruits:', classes_names)\n",
    "print('Fruits ids:', classes_ids)\n",
    "print('Number of features', features)"
   ]
  },
  {
   "cell_type": "code",
   "execution_count": 24,
   "metadata": {},
   "outputs": [
    {
     "name": "stdout",
     "output_type": "stream",
     "text": [
      "fruit_name\n",
      "apple       19\n",
      "lemon       16\n",
      "mandarin     5\n",
      "orange      19\n",
      "dtype: int64\n"
     ]
    }
   ],
   "source": [
    "count_by_fruit_name =  fruits_dataset.groupby('fruit_name').size()\n",
    "print(count_by_fruit_name)"
   ]
  },
  {
   "cell_type": "code",
   "execution_count": 25,
   "metadata": {},
   "outputs": [
    {
     "data": {
      "image/png": "[encoded data removed]",
      "text/plain": [
       "<Figure size 432x288 with 1 Axes>"
      ]
     },
     "metadata": {
      "needs_background": "light"
     },
     "output_type": "display_data"
    }
   ],
   "source": [
    "# Observation (1): Limit number of mandarin examples comparing to other categories! (Case a problem!)\n",
    "\n",
    "plt.bar(classes,count_by_fruit_name[classes])\n",
    "plt.show()"
   ]
  },
  {
   "cell_type": "markdown",
   "metadata": {},
   "source": [
    "One of the essential parts of data visualization is to observe the relationships among the features plus secure that the classes are separable/differentiable, which means the AI model ables to classify them using this data. \n",
    "\n",
    "![fruits_scatter_matrix](https://user-images.githubusercontent.com/20774864/93892431-cffa7300-fcec-11ea-882c-606e2c64c874.png)\n",
    "\n",
    "**Note this visual observation is a little bit an intuition part; however, there are statistical methods that could be used to preciously confirm and emphasize relationships in the input features**"
   ]
  },
  {
   "cell_type": "code",
   "execution_count": 26,
   "metadata": {
    "scrolled": true
   },
   "outputs": [
    {
     "data": {
      "image/png": "[encoded data removed]",
      "text/plain": [
       "<Figure size 648x648 with 16 Axes>"
      ]
     },
     "metadata": {
      "needs_background": "light"
     },
     "output_type": "display_data"
    }
   ],
   "source": [
    "y = classes\n",
    "\n",
    "scatter = scatter_matrix(fruits_dataset[features], c=fruits_dataset['fruit_label'], marker = 'o', s=40, figsize=(9,9))\n",
    "\n",
    "plt.suptitle('Scatter-matrix for each input variable')\n",
    "\n",
    "plt.savefig('fruits_scatter_matrix')"
   ]
  },
  {
   "cell_type": "markdown",
   "metadata": {},
   "source": [
    "## Data Preprocessing\n",
    "\n",
    "After visualizing the data and identify some patterns, you need to do additional methods as we mentioned above that is called the data preprocessing phase. You need to split your data into a train and test datasets to evaluate the model after the training part using unseen data. Moreover, digital devices can only handle digits and numbers; therefore, you need to transform any text in the data into a numerical form. "
   ]
  },
  {
   "cell_type": "code",
   "execution_count": 29,
   "metadata": {},
   "outputs": [
    {
     "name": "stdout",
     "output_type": "stream",
     "text": [
      "Features\n",
      "    mass  width  height  color_score\n",
      "42   154    7.2     7.2         0.82\n",
      "48   174    7.3    10.1         0.72\n",
      "7     76    5.8     4.0         0.81\n",
      "14   152    7.6     7.3         0.69\n",
      "32   164    7.2     7.0         0.80\n",
      "49   132    5.8     8.7         0.73\n",
      "29   160    7.0     7.4         0.81\n",
      "37   154    7.3     7.3         0.79\n",
      "56   116    5.9     8.1         0.73\n",
      "18   162    7.5     7.1         0.83\n",
      "55   116    6.3     7.7         0.72\n",
      "27   204    7.5     9.2         0.77\n",
      "15   156    7.7     7.1         0.69\n",
      "5     80    5.8     4.3         0.77\n",
      "31   210    7.8     8.0         0.82\n",
      "16   156    7.6     7.5         0.67\n",
      "50   130    6.0     8.2         0.71\n",
      "20   160    7.5     7.5         0.86\n",
      "51   116    6.0     7.5         0.72\n",
      "8    178    7.1     7.8         0.92\n",
      "13   164    7.3     7.7         0.70\n",
      "25   356    9.2     9.2         0.75\n",
      "17   168    7.5     7.6         0.73\n",
      "58   118    6.1     8.1         0.70\n",
      "57   152    6.5     8.5         0.72\n",
      "52   118    5.9     8.0         0.72\n",
      "38   158    7.2     7.8         0.77\n",
      "1    180    8.0     6.8         0.59\n",
      "12   154    7.0     7.1         0.88\n",
      "45   186    7.2     9.2         0.72\n",
      "24   342    9.0     9.4         0.75\n",
      "6     80    5.9     4.3         0.81\n",
      "23   170    7.6     7.9         0.88\n",
      "36   160    7.1     7.6         0.76\n",
      "21   156    7.4     7.4         0.84\n",
      "19   162    7.4     7.2         0.85\n",
      "9    172    7.4     7.0         0.89\n",
      "39   144    6.8     7.4         0.75\n",
      "54   116    6.1     8.5         0.71\n",
      "3     86    6.2     4.7         0.80\n",
      "0    192    8.4     7.3         0.55\n",
      "53   120    6.0     8.4         0.74\n",
      "47   196    7.3     9.7         0.72\n",
      "44   200    7.3    10.5         0.72\n",
      "Targets\n",
      "42    3\n",
      "48    4\n",
      "7     2\n",
      "14    1\n",
      "32    3\n",
      "49    4\n",
      "29    3\n",
      "37    3\n",
      "56    4\n",
      "18    1\n",
      "55    4\n",
      "27    3\n",
      "15    1\n",
      "5     2\n",
      "31    3\n",
      "16    1\n",
      "50    4\n",
      "20    1\n",
      "51    4\n",
      "8     1\n",
      "13    1\n",
      "25    3\n",
      "17    1\n",
      "58    4\n",
      "57    4\n",
      "52    4\n",
      "38    3\n",
      "1     1\n",
      "12    1\n",
      "45    4\n",
      "24    3\n",
      "6     2\n",
      "23    1\n",
      "36    3\n",
      "21    1\n",
      "19    1\n",
      "9     1\n",
      "39    3\n",
      "54    4\n",
      "3     2\n",
      "0     1\n",
      "53    4\n",
      "47    4\n",
      "44    4\n",
      "Name: fruit_label, dtype: int64\n"
     ]
    }
   ],
   "source": [
    "from sklearn.model_selection import train_test_split\n",
    "from sklearn.preprocessing import MinMaxScaler\n",
    "\n",
    "X = fruits_dataset[features]\n",
    "y = fruits_dataset['fruit_label']\n",
    "\n",
    "X_train, X_test, y_train, y_test = train_test_split(X, y, random_state=0)\n",
    "\n",
    "print('Features')\n",
    "print(X_train)\n",
    "print('Targets')\n",
    "print(y_train)"
   ]
  },
  {
   "cell_type": "code",
   "execution_count": 30,
   "metadata": {},
   "outputs": [
    {
     "name": "stdout",
     "output_type": "stream",
     "text": [
      "Features\n",
      "[[0.27857143 0.41176471 0.49230769 0.72972973]\n",
      " [0.35       0.44117647 0.93846154 0.45945946]\n",
      " [0.         0.         0.         0.7027027 ]\n",
      " [0.27142857 0.52941176 0.50769231 0.37837838]\n",
      " [0.31428571 0.41176471 0.46153846 0.67567568]\n",
      " [0.2        0.         0.72307692 0.48648649]\n",
      " [0.3        0.35294118 0.52307692 0.7027027 ]\n",
      " [0.27857143 0.44117647 0.50769231 0.64864865]\n",
      " [0.14285714 0.02941176 0.63076923 0.48648649]\n",
      " [0.30714286 0.5        0.47692308 0.75675676]\n",
      " [0.14285714 0.14705882 0.56923077 0.45945946]\n",
      " [0.45714286 0.5        0.8        0.59459459]\n",
      " [0.28571429 0.55882353 0.47692308 0.37837838]\n",
      " [0.01428571 0.         0.04615385 0.59459459]\n",
      " [0.47857143 0.58823529 0.61538462 0.72972973]\n",
      " [0.28571429 0.52941176 0.53846154 0.32432432]\n",
      " [0.19285714 0.05882353 0.64615385 0.43243243]\n",
      " [0.3        0.5        0.53846154 0.83783784]\n",
      " [0.14285714 0.05882353 0.53846154 0.45945946]\n",
      " [0.36428571 0.38235294 0.58461538 1.        ]\n",
      " [0.31428571 0.44117647 0.56923077 0.40540541]\n",
      " [1.         1.         0.8        0.54054054]\n",
      " [0.32857143 0.5        0.55384615 0.48648649]\n",
      " [0.15       0.08823529 0.63076923 0.40540541]\n",
      " [0.27142857 0.20588235 0.69230769 0.45945946]\n",
      " [0.15       0.02941176 0.61538462 0.45945946]\n",
      " [0.29285714 0.41176471 0.58461538 0.59459459]\n",
      " [0.37142857 0.64705882 0.43076923 0.10810811]\n",
      " [0.27857143 0.35294118 0.47692308 0.89189189]\n",
      " [0.39285714 0.41176471 0.8        0.45945946]\n",
      " [0.95       0.94117647 0.83076923 0.54054054]\n",
      " [0.01428571 0.02941176 0.04615385 0.7027027 ]\n",
      " [0.33571429 0.52941176 0.6        0.89189189]\n",
      " [0.3        0.38235294 0.55384615 0.56756757]\n",
      " [0.28571429 0.47058824 0.52307692 0.78378378]\n",
      " [0.30714286 0.47058824 0.49230769 0.81081081]\n",
      " [0.34285714 0.47058824 0.46153846 0.91891892]\n",
      " [0.24285714 0.29411765 0.52307692 0.54054054]\n",
      " [0.14285714 0.08823529 0.69230769 0.43243243]\n",
      " [0.03571429 0.11764706 0.10769231 0.67567568]\n",
      " [0.41428571 0.76470588 0.50769231 0.        ]\n",
      " [0.15714286 0.05882353 0.67692308 0.51351351]\n",
      " [0.42857143 0.44117647 0.87692308 0.45945946]\n",
      " [0.44285714 0.44117647 1.         0.45945946]]\n",
      "Targets\n",
      "42    3\n",
      "48    4\n",
      "7     2\n",
      "14    1\n",
      "32    3\n",
      "49    4\n",
      "29    3\n",
      "37    3\n",
      "56    4\n",
      "18    1\n",
      "55    4\n",
      "27    3\n",
      "15    1\n",
      "5     2\n",
      "31    3\n",
      "16    1\n",
      "50    4\n",
      "20    1\n",
      "51    4\n",
      "8     1\n",
      "13    1\n",
      "25    3\n",
      "17    1\n",
      "58    4\n",
      "57    4\n",
      "52    4\n",
      "38    3\n",
      "1     1\n",
      "12    1\n",
      "45    4\n",
      "24    3\n",
      "6     2\n",
      "23    1\n",
      "36    3\n",
      "21    1\n",
      "19    1\n",
      "9     1\n",
      "39    3\n",
      "54    4\n",
      "3     2\n",
      "0     1\n",
      "53    4\n",
      "47    4\n",
      "44    4\n",
      "Name: fruit_label, dtype: int64\n"
     ]
    },
    {
     "name": "stderr",
     "output_type": "stream",
     "text": [
      "G:\\anaconda\\lib\\site-packages\\sklearn\\preprocessing\\data.py:334: DataConversionWarning: Data with input dtype int64, float64 were all converted to float64 by MinMaxScaler.\n",
      "  return self.partial_fit(X, y)\n"
     ]
    }
   ],
   "source": [
    "scaler = MinMaxScaler()\n",
    "X_train = scaler.fit_transform(X_train)\n",
    "X_test = scaler.transform(X_test)\n",
    "print('Features')\n",
    "print(X_train)\n",
    "print('Targets')\n",
    "print(y_train)"
   ]
  },
  {
   "cell_type": "markdown",
   "metadata": {},
   "source": [
    "## Build Model\n",
    "At this stage, we are going to try three machine learning classification models, **Logistic Regression**, **Decision Tree**, and **K-nearest Neighbors** models, and observe the prediction accuracy. "
   ]
  },
  {
   "cell_type": "markdown",
   "metadata": {},
   "source": [
    "### Logistic Regression\n",
    "\n",
    "*Logistic Regression* is a binary (two-classes) classification model that the output be in range 0~1, as shown below.\n",
    "\n",
    "![fruits_scatter_matrix](https://miro.medium.com/max/499/0*ENkZ5v28CDzuaoYU.png)\n",
    "\n",
    "However, It may be applied in non-binary problems by a theory of considering the **one-vs-all** approach.\n",
    "\n",
    "![fruits_scatter_matrix](https://miro.medium.com/max/1574/1*7sz-bpA4r_xSqAG3IJx-7w.jpeg)\n"
   ]
  },
  {
   "cell_type": "code",
   "execution_count": 78,
   "metadata": {},
   "outputs": [
    {
     "name": "stdout",
     "output_type": "stream",
     "text": [
      "Training set accuracy: 0.70\n",
      "Test set accuracy: 0.40\n"
     ]
    }
   ],
   "source": [
    "from sklearn.linear_model import LogisticRegression\n",
    "\n",
    "# Declear the model\n",
    "model = LogisticRegression()\n",
    "\n",
    "# Train the model over the training dataset\n",
    "model.fit(X_train, y_train)\n",
    "\n",
    "# Using score function to evaluate the mode over dataset\n",
    "print('Training set accuracy: {:.2f}'.format(model.score(X_train, y_train)))\n",
    "\n",
    "print('Test set accuracy: {:.2f}'.format(model.score(X_test, y_test)))\n"
   ]
  },
  {
   "cell_type": "code",
   "execution_count": 84,
   "metadata": {},
   "outputs": [
    {
     "name": "stdout",
     "output_type": "stream",
     "text": [
      "('Regression Model Output:', 'lemon', 'Expected Output', 'apple')\n"
     ]
    }
   ],
   "source": [
    "# Predict using the trained model.\n",
    "\n",
    "out = model.predict(X_train[5].reshape(1,4))\n",
    "\n",
    "print('Model Output:',classes_names[out[0]-1],\n",
    "     'Expected Output', classes_names[y_train[0]-1])"
   ]
  },
  {
   "cell_type": "markdown",
   "metadata": {},
   "source": [
    "### Decision Tree\n",
    "\n",
    "*Decision Tree Model* is a tree of nodes that determine which category the input belongs to (output). The training process updates nodes' parameters until achieving good performance. \n",
    "\n",
    "![fruits_scatter_matrix](https://miro.medium.com/proxy/1*GIPiAdQyOa8wUOkHaL-MJg.gif)\n"
   ]
  },
  {
   "cell_type": "code",
   "execution_count": 85,
   "metadata": {},
   "outputs": [
    {
     "name": "stdout",
     "output_type": "stream",
     "text": [
      "Training set accuracy: 1.00\n",
      "Test set accuracy: 0.73\n"
     ]
    }
   ],
   "source": [
    "from sklearn.tree import DecisionTreeClassifier\n",
    "\n",
    "# Declear the model\n",
    "model = DecisionTreeClassifier()\n",
    "\n",
    "# Train the model over the training dataset\n",
    "model.fit(X_train, y_train)\n",
    "\n",
    "# Using score function to evaluate the mode over dataset\n",
    "print('Training set accuracy: {:.2f}'.format(model.score(X_train, y_train)))\n",
    "\n",
    "print('Test set accuracy: {:.2f}'.format(model.score(X_test, y_test)))"
   ]
  },
  {
   "cell_type": "code",
   "execution_count": 87,
   "metadata": {},
   "outputs": [
    {
     "name": "stdout",
     "output_type": "stream",
     "text": [
      "('Regression Model Output:', 'apple', 'Expected Output', 'apple')\n"
     ]
    }
   ],
   "source": [
    "# Predict using the trained model.\n",
    "\n",
    "out = model.predict(X_train[3].reshape(1,4))\n",
    "\n",
    "print('Model Output:',classes_names[out[0]-1],\n",
    "     'Expected Output', classes_names[y_train[0]-1])"
   ]
  },
  {
   "cell_type": "markdown",
   "metadata": {},
   "source": [
    "### K-Nearest Neighbors\n",
    "\n",
    "![fruits_scatter_matrix](https://machinelearningknowledge.ai/wp-content/uploads/2018/08/KNN-Classification.gif)\n"
   ]
  },
  {
   "cell_type": "code",
   "execution_count": 88,
   "metadata": {},
   "outputs": [
    {
     "name": "stdout",
     "output_type": "stream",
     "text": [
      "Training set accuracy: 0.95\n",
      "Test set accuracy: 1.00\n"
     ]
    }
   ],
   "source": [
    "from sklearn.neighbors import KNeighborsClassifier\n",
    "\n",
    "# Declear the model\n",
    "model = KNeighborsClassifier()\n",
    "\n",
    "# Train the model over the training dataset\n",
    "model.fit(X_train, y_train)\n",
    "\n",
    "# Using score function to evaluate the mode over dataset\n",
    "print('Training set accuracy: {:.2f}'.format(model.score(X_train, y_train)))\n",
    "\n",
    "print('Test set accuracy: {:.2f}'.format(model.score(X_test, y_test)))"
   ]
  },
  {
   "cell_type": "code",
   "execution_count": 91,
   "metadata": {},
   "outputs": [
    {
     "name": "stdout",
     "output_type": "stream",
     "text": [
      "[False]\n",
      "('Model Output:', 'apple', 'Expected Output', 'mandarin')\n"
     ]
    }
   ],
   "source": [
    "# Predict using the trained model.\n",
    "\n",
    "out = model.predict(X_train[3].reshape(1,4))\n",
    "print(out == y_train[3])\n",
    "print('Model Output:',classes_names[out[0]-1],\n",
    "     'Expected Output', classes_names[y_train[3]-1])"
   ]
  },
  {
   "cell_type": "code",
   "execution_count": 92,
   "metadata": {},
   "outputs": [
    {
     "name": "stdout",
     "output_type": "stream",
     "text": [
      "42     True\n",
      "48     True\n",
      "7      True\n",
      "14     True\n",
      "32     True\n",
      "49     True\n",
      "29     True\n",
      "37     True\n",
      "56     True\n",
      "18     True\n",
      "55     True\n",
      "27    False\n",
      "15     True\n",
      "5      True\n",
      "31    False\n",
      "16     True\n",
      "50     True\n",
      "20     True\n",
      "51     True\n",
      "8      True\n",
      "13     True\n",
      "25     True\n",
      "17     True\n",
      "58     True\n",
      "57     True\n",
      "52     True\n",
      "38     True\n",
      "1      True\n",
      "12     True\n",
      "45     True\n",
      "24     True\n",
      "6      True\n",
      "23     True\n",
      "36     True\n",
      "21     True\n",
      "19     True\n",
      "9      True\n",
      "39     True\n",
      "54     True\n",
      "3      True\n",
      "0      True\n",
      "53     True\n",
      "47     True\n",
      "44     True\n",
      "Name: fruit_label, dtype: bool\n"
     ]
    }
   ],
   "source": [
    "out = model.predict(X_train)\n",
    "print(out == y_train)"
   ]
  },
  {
   "cell_type": "code",
   "execution_count": null,
   "metadata": {},
   "outputs": [],
   "source": []
  }
 ],
 "metadata": {
  "kernelspec": {
   "display_name": "Python 2",
   "language": "python",
   "name": "python2"
  },
  "language_info": {
   "codemirror_mode": {
    "name": "ipython",
    "version": 2
   },
   "file_extension": ".py",
   "mimetype": "text/x-python",
   "name": "python",
   "nbconvert_exporter": "python",
   "pygments_lexer": "ipython2",
   "version": "2.7.16"
  }
 },
 "nbformat": 4,
 "nbformat_minor": 2
}
